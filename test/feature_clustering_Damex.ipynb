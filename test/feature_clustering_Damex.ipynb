{
 "cells": [
  {
   "cell_type": "markdown",
   "id": "ce320610",
   "metadata": {
    "lines_to_next_cell": 2
   },
   "source": [
    "Author: Anne Sabourin\n",
    "Description: DAMEX tutorial"
   ]
  },
  {
   "cell_type": "markdown",
   "id": "b512ab7e",
   "metadata": {},
   "source": [
    "# Damex tutorial"
   ]
  },
  {
   "cell_type": "markdown",
   "id": "350a1363",
   "metadata": {
    "lines_to_next_cell": 2
   },
   "source": [
    "This notebook implements the DAMEX algorithm as described in [1]. The\n",
    "unsupervised task considered is the discovery of groups of components\n",
    "of a random vector that are comparatively likely to be simultaneously\n",
    "large.\n",
    "\n",
    "The tutorial introduces new methods for selecting the tuning parameter\n",
    "$\\epsilon$ in DAMEX and $\\kappa$ in CLEF, primarily based on AIC and\n",
    "cross-validation. These methods involve a specific pseudo-likelihood\n",
    "for random subsets of features among $\\{1, \\ldots, d\\}$. Although\n",
    "these methods lack theoretical investigation, this notebook provides\n",
    "empirical evidence supporting the relevance of the proposed selection\n",
    "criteria.\n",
    "\n",
    "**References:**\n",
    "[1] Goix, N., Sabourin, A., & Clémençon, S. (2017). Sparse\n",
    "representation of multivariate extremes with applications to anomaly\n",
    "detection. Journal of Multivariate Analysis, 161, 12-31."
   ]
  },
  {
   "cell_type": "code",
   "execution_count": 1,
   "id": "567c5f7d",
   "metadata": {},
   "outputs": [
    {
     "data": {
      "text/plain": [
       "'/home/anne/Dropbox/RECHERCHE/CODE/MLExtreme/test'"
      ]
     },
     "execution_count": 1,
     "metadata": {},
     "output_type": "execute_result"
    }
   ],
   "source": [
    "# # Set working directory if necessary\n",
    "import os\n",
    "os.getcwd()\n",
    "# #os.chdir(\"../\")"
   ]
  },
  {
   "cell_type": "code",
   "execution_count": 7,
   "id": "7bc924df",
   "metadata": {},
   "outputs": [],
   "source": [
    "import numpy as np\n",
    "import matplotlib.pyplot as plt\n",
    "import pprint as pp\n",
    "import MLExtreme as mlx\n",
    "\n",
    "\n",
    "# Define the norm function as the infinite norm (other norms are not\n",
    "# implemented in DAMEX / CLEF). This definition is not required for\n",
    "# running CLEF/DAMEX and is used here solely for visualization and\n",
    "# analysis of the output.\n",
    "\n",
    "def norm_func(x):\n",
    "    return np.max(x, axis=1)"
   ]
  },
  {
   "cell_type": "markdown",
   "id": "4f3f4f0e",
   "metadata": {},
   "source": [
    "## Ground truth definition:\n",
    "Define or generate a list of subfaces of the unit sphere that\n",
    "represent the support of the limit measure."
   ]
  },
  {
   "cell_type": "code",
   "execution_count": 8,
   "id": "2ac5cc1c",
   "metadata": {},
   "outputs": [
    {
     "name": "stdout",
     "output_type": "stream",
     "text": [
      "Mu matrix: \n",
      " [[0.3   0.    0.    0.4   0.    0.    0.    0.    0.3   0.    0.    0.\n",
      "  0.    0.    0.    0.    0.    0.    0.    0.   ]\n",
      " [0.077 0.103 0.103 0.103 0.103 0.    0.103 0.077 0.    0.103 0.    0.\n",
      "  0.154 0.    0.    0.    0.    0.    0.    0.077]\n",
      " [0.12  0.    0.    0.    0.    0.    0.16  0.12  0.    0.    0.    0.24\n",
      "  0.    0.    0.    0.    0.24  0.    0.    0.12 ]\n",
      " [0.    0.    0.    0.    0.    0.    0.    0.136 0.136 0.    0.    0.\n",
      "  0.    0.182 0.273 0.    0.    0.273 0.    0.   ]\n",
      " [0.2   0.    0.    0.    0.    0.8   0.    0.    0.    0.    0.    0.\n",
      "  0.    0.    0.    0.    0.    0.    0.    0.   ]\n",
      " [0.    0.    0.    0.    0.    0.    0.    0.    0.    0.    0.75  0.\n",
      "  0.    0.25  0.    0.    0.    0.    0.    0.   ]\n",
      " [0.    0.    0.    0.    0.571 0.    0.    0.    0.429 0.    0.    0.\n",
      "  0.    0.    0.    0.    0.    0.    0.    0.   ]\n",
      " [0.    0.2   0.    0.2   0.    0.    0.    0.    0.15  0.    0.    0.\n",
      "  0.    0.    0.3   0.    0.    0.    0.    0.15 ]\n",
      " [0.    0.    0.125 0.    0.    0.    0.    0.    0.    0.125 0.    0.188\n",
      "  0.188 0.    0.    0.    0.188 0.188 0.    0.   ]\n",
      " [0.    0.074 0.074 0.    0.074 0.    0.074 0.056 0.    0.074 0.    0.\n",
      "  0.    0.074 0.    0.222 0.    0.    0.222 0.056]]\n",
      "Weights: [0.042 0.162 0.104 0.092 0.062 0.067 0.029 0.083 0.133 0.225]\n"
     ]
    }
   ],
   "source": [
    "Plot = False\n",
    "seed = 42\n",
    "dim = 20  # try 5, 20, 50, 100\n",
    "num_subfaces = 10  # try 5, 20, 50\n",
    "subfaces_list = mlx.gen_subfaces(dimension=dim,\n",
    "                                 num_subfaces=num_subfaces,\n",
    "                                 max_size=10,  # try 4, 10, 20\n",
    "                                 prevent_inclusions=True,\n",
    "                                 seed=seed)\n",
    "\n",
    "# # Uncomment for a simpler example:\n",
    "# subfaces_list = [[0, 1], [1, 2], [2, 3, 4]]\n",
    "\n",
    "if False:   # change to True to print the list of subfaces\n",
    "    print(subfaces_list)\n",
    "    pp.pprint(mlx.list_to_dict_size(subfaces_list))\n",
    "\n",
    "subfaces_matrix = mlx.subfaces_list_to_matrix(subfaces_list, dim)\n",
    "# print(subfaces_matrix) Dimension, number of mixture components,\n",
    "# weights and Dirichlet center locations\n",
    "n = int(np.sqrt(dim) * 10**3)\n",
    "k = np.shape(subfaces_matrix)[0]\n",
    "dim = np.shape(subfaces_matrix)[1]\n",
    "# Define admissible Dirichlet mixture parameters for the limit angular measure\n",
    "# of a marginally Pareto-standardized heavy-tailed vector,\n",
    "# based on the matrix of subfaces.\n",
    "# This avoids potentially imbalanced settings across features.\n",
    "wei = np.ones(k)/k\n",
    "Mu, wei = mlx.normalize_param_dirimix(subfaces_matrix, wei)\n",
    "# Print the subfaces and their weights, and record them as a list for\n",
    "# further use.\n",
    "faces_true = subfaces_list\n",
    "wei_true = wei\n",
    "print(f'Mu matrix: \\n {np.round(Mu, 3)}')\n",
    "print(f'Weights: {np.round(wei, 3)}')"
   ]
  },
  {
   "cell_type": "markdown",
   "id": "900bbb87",
   "metadata": {},
   "source": [
    "### Difficulty Settings for the Tail Problem"
   ]
  },
  {
   "cell_type": "markdown",
   "id": "d323a2e8",
   "metadata": {
    "cell_marker": "\"\"\""
   },
   "source": [
    "The `lnu` parameter below is the logarithm of the concentration\n",
    "parameter for the Dirichlet mixture. It is a crucial parameter that\n",
    "determines the difficulty of the clustering problem. If any\n",
    "$ \\exp(\\text{lnu}[i]) \\times \\text{Mu}[i,j] < 1$, the problem is\n",
    "pathologically hard, as the mass on any subface concentrates on the\n",
    "boundary of that face. Conversely, if all $\\exp(\\text{lnu}[i]) \\times\n",
    "\\text{Mu}[i,j] \\gg 1$, the problem is very easy.\n",
    "\n",
    "Experiment with the 'difficulty' parameter below, which should be\n",
    "strictly positive. Values greater than one correspond to very hard\n",
    "problems, while values close to zero generate very easy\n",
    "problems. Interesting results occur for difficulty $\\approx 0.8$."
   ]
  },
  {
   "cell_type": "code",
   "execution_count": 9,
   "id": "6fd7a616",
   "metadata": {
    "lines_to_next_cell": 2
   },
   "outputs": [],
   "source": [
    "difficulty = 0.8\n",
    "\n",
    "min_mus = np.zeros(k)\n",
    "for j in range(k):\n",
    "    min_mus[j] = np.min(Mu[j, Mu[j, :] > 0])\n",
    "lnu = np.log(1/(difficulty**2) * 1/min_mus)\n",
    "# check (change to True  to display)\n",
    "if False:\n",
    "    print(\"absolute dirichlet parameters: \")\n",
    "    print(Mu * np.exp(lnu).reshape(-1, 1))"
   ]
  },
  {
   "cell_type": "markdown",
   "id": "f25ad811",
   "metadata": {},
   "source": [
    " Other parameter settings that govern the speed of convergence of\n",
    "the conditional distribution above a radial threshold towards the\n",
    "limit measure.  "
   ]
  },
  {
   "cell_type": "code",
   "execution_count": 10,
   "id": "dc09d326",
   "metadata": {},
   "outputs": [],
   "source": [
    "# Regular variation index of the data\n",
    "alpha = 2\n",
    "\n",
    "# Centers of mass of the Dirichlet mixture in the bulk (vanishing\n",
    "# impact above large radial thresholds):\n",
    "Mu_bulk = np.ones((k, dim))/dim"
   ]
  },
  {
   "cell_type": "markdown",
   "id": "0c6208e9",
   "metadata": {},
   "source": [
    " `index_weight_noise` below indicates how fast the impact of noise decreases\n",
    "with large radial thresholds. Specifically, the noise's weight decreases as:\n",
    "$(C/\\text{radius})^{\\text{index\\_weight\\_noise}}$"
   ]
  },
  {
   "cell_type": "code",
   "execution_count": 11,
   "id": "7075eb8e",
   "metadata": {},
   "outputs": [],
   "source": [
    "index_weight_noise = 4"
   ]
  },
  {
   "cell_type": "markdown",
   "id": "883d9573",
   "metadata": {},
   "source": [
    "### Dataset Generation and Visualisation"
   ]
  },
  {
   "cell_type": "code",
   "execution_count": 12,
   "id": "e7b81267",
   "metadata": {},
   "outputs": [],
   "source": [
    "# Generate data\n",
    "np.random.seed(42)\n",
    "X = mlx.gen_rv_dirimix(alpha, np.round(Mu, 3),  wei, lnu,\n",
    "                       scale_weight_noise=1, Mu_bulk=Mu_bulk,\n",
    "                       index_weight_noise=index_weight_noise, size=n)\n",
    "\n",
    "\n",
    "# Define rank-transformed data\n",
    "Xt = mlx.rank_transform(X)\n",
    "\n",
    "# Generate test data for unsupervised evaluation\n",
    "np.random.seed(12345)\n",
    "Xtest = mlx.gen_rv_dirimix(alpha, np.round(Mu, 3),  wei, lnu,\n",
    "                           scale_weight_noise=1, Mu_bulk=Mu_bulk,\n",
    "                           index_weight_noise=index_weight_noise, size=5*n)\n",
    "\n",
    "# Define rank-transformed test data\n",
    "std_Xtest = mlx.rank_transform(Xtest)"
   ]
  },
  {
   "cell_type": "code",
   "execution_count": 13,
   "id": "eb6bc634",
   "metadata": {},
   "outputs": [],
   "source": [
    "# pairwise plot of generated data for two dependent components\n",
    "len_faces = np.sum(subfaces_matrix, axis=1)\n",
    "r_i = np.where(len_faces > 1)[0][0]\n",
    "iplot = subfaces_list[r_i][0]\n",
    "jplot = subfaces_list[r_i][1]\n",
    "\n",
    "if Plot:\n",
    "    plt.figure(figsize=(10, 10))\n",
    "    X_disp = X**(alpha/4)  # for easier visualization only\n",
    "    max_val = np.max(X_disp)\n",
    "    scatter = plt.scatter(X_disp[:, iplot], X_disp[:, jplot], alpha=0.5)\n",
    "    plt.xlim(0, max_val)\n",
    "    plt.ylim(0, max_val)\n",
    "    plt.xlabel('Feature 1')\n",
    "    plt.ylabel('Feature d')\n",
    "    plt.title('Scatter Plot of the raw dataset')\n",
    "    plt.show()"
   ]
  },
  {
   "cell_type": "code",
   "execution_count": 14,
   "id": "faaebf7e",
   "metadata": {},
   "outputs": [],
   "source": [
    "# Rank transformed  generated data with  unit pareto margins\n",
    "# and visualization\n",
    "if Plot:\n",
    "    plt.figure(figsize=(10, 10))\n",
    "    X_disp = Xt**(1/4)  # for easier viz only\n",
    "    max_val = np.max(X_disp)\n",
    "    scatter = plt.scatter(X_disp[:, iplot], X_disp[:, jplot], alpha=0.5)\n",
    "    plt.xlim(0, max_val)\n",
    "    plt.ylim(0, max_val)\n",
    "    plt.xlabel('Feature 1')\n",
    "    plt.ylabel('Feature d')\n",
    "    plt.title('Scatter Plot of the rank transformed dataset')\n",
    "    plt.show()"
   ]
  },
  {
   "cell_type": "markdown",
   "id": "74327a20",
   "metadata": {},
   "source": [
    "# Data Analysis\n",
    "## Radial threshold selection before model fitting"
   ]
  },
  {
   "cell_type": "code",
   "execution_count": 15,
   "id": "7ed03375",
   "metadata": {
    "lines_to_next_cell": 0
   },
   "outputs": [
    {
     "name": "stdout",
     "output_type": "stream",
     "text": [
      "maximum ratio of extreme samples from rule-of-thumb distance covariance test: 0.2\n"
     ]
    }
   ],
   "source": [
    "# Select the radial threshold via distance-covariance tests.\n",
    "# See the tutorials on classification and regression for more details.\n",
    "ntests_thresh = 10\n",
    "ratio_ext = np.geomspace(0.05, 0.3, num=ntests_thresh)\n",
    "pval, ratio_max = mlx.test_indep_radius_rest(Xt, y=None, ratio_ext=ratio_ext,\n",
    "                                             norm_func=norm_func)\n",
    "\n",
    "if Plot:\n",
    "    mlx.plot_indep_radius_rest(pval, ratio_ext, ratio_max, n)\n",
    "\n",
    "print(f'maximum ratio of extreme samples from rule-of-thumb \\\n",
    "distance covariance test: {mlx.round_signif(ratio_max, 2)}')\n",
    "ratio_extremes = ratio_max * 4/5\n",
    "norm_Xt = norm_func(Xt)\n",
    "# Radial threshold selected with rule-of-thumb radius-versus-rest\n",
    "# independence tests:\n",
    "threshold = np.quantile(norm_Xt, 1 - ratio_extremes)\n",
    "# Note: The following is not 'k' in the notations of Goix et al.'s\n",
    "# paper.  Instead, it is between k and d * k. It is the number of data\n",
    "# points above the radial threshold.\n",
    "number_extremes = np.sum(norm_Xt >= threshold)\n",
    "\n",
    "# %%%%%%%%%%%%%%%%%%%%%%%%%%%%%%%%%%%%%%%%%%%%%%%%"
   ]
  },
  {
   "cell_type": "markdown",
   "id": "3e5c6e06",
   "metadata": {},
   "source": [
    "## DAMEX CLUSTERING ALGORITHM (Goix et al.)"
   ]
  },
  {
   "cell_type": "code",
   "execution_count": 16,
   "id": "e1b2d833",
   "metadata": {
    "title": "Create a Damex clustering instance and fit it with the default"
   },
   "outputs": [],
   "source": [
    "# value epsilon = 0.1.\n",
    "include_singletons = True\n",
    "min_counts = 10\n",
    "clustering = mlx.damex(min_counts=min_counts,\n",
    "                       thresh_train=threshold, thresh_test=threshold,\n",
    "                       include_singletons=include_singletons)\n",
    "damex_subfaces, damex_masses = clustering.fit(X)"
   ]
  },
  {
   "cell_type": "code",
   "execution_count": 17,
   "id": "5a9efeb3",
   "metadata": {},
   "outputs": [],
   "source": [
    "# Visualization of rank-transformed data and threshold (default; epsilon=0.1)\n",
    "Xt_disp = Xt**(1/4)\n",
    "thresh_disp = clustering.thresh_train**(1/4)\n",
    "eps_thresh_disp = (clustering.thresh_train * clustering.epsilon)**(1/4)\n",
    "max_val = np.max(Xt_disp)*1.01\n",
    "# # Note: The exponent alpha/4 above is meant to aid visualization\n",
    "# # only and may be removed without altering the analysis.\n",
    "if Plot:\n",
    "    scatter = plt.scatter(Xt_disp[:, iplot], Xt_disp[:, jplot], alpha=0.5,\n",
    "                          c='gray')\n",
    "    plt.xlim(0.9, max_val)\n",
    "    plt.ylim(0.9, max_val)\n",
    "    plt.plot([thresh_disp, thresh_disp], [0, thresh_disp], c='blue',\n",
    "             label='radial threshold')\n",
    "    plt.plot([0, thresh_disp], [thresh_disp, thresh_disp], c='blue')\n",
    "    plt.plot([thresh_disp, max_val], [eps_thresh_disp, eps_thresh_disp],\n",
    "             c='red',\n",
    "             label='tolerance distance-to-subface threshold')\n",
    "    plt.plot([eps_thresh_disp, eps_thresh_disp], [thresh_disp, max_val],\n",
    "             c='red')\n",
    "    plt.xlabel('Feature 1')\n",
    "    plt.ylabel('Feature d')\n",
    "    plt.title('Scatter Plot of the rank_transformed dataset and \\\n",
    "selected thresholds')\n",
    "    plt.legend()\n",
    "    plt.show()"
   ]
  },
  {
   "cell_type": "markdown",
   "id": "a5ee209d",
   "metadata": {},
   "source": [
    "inspection of subfaces and masses"
   ]
  },
  {
   "cell_type": "code",
   "execution_count": 18,
   "id": "3bfbe513",
   "metadata": {},
   "outputs": [
    {
     "name": "stdout",
     "output_type": "stream",
     "text": [
      "List of subfaces found by DAMEX:\n",
      "{1: [],\n",
      " 2: [[10, 13], [0, 5], [4, 8]],\n",
      " 3: [[0, 3, 8]],\n",
      " 4: [[7, 13, 14, 17]],\n",
      " 5: [[7, 8, 13, 14, 17],\n",
      "     [1, 3, 8, 14, 19],\n",
      "     [9, 11, 12, 16, 17],\n",
      "     [2, 11, 12, 16, 17]],\n",
      " 6: [[2, 9, 11, 12, 16, 17], [0, 6, 7, 11, 16, 19]],\n",
      " 7: [],\n",
      " 8: [],\n",
      " 9: [],\n",
      " 10: [[0, 1, 2, 3, 4, 6, 7, 9, 12, 19]]}\n",
      "(Damex) Associated limit mass:\n",
      "{1: [], 2: [0.97, 0.95, 0.82], 3: [0.66], 4: [0.18], 5: [0.68, 0.58, 0.22, 0.2], 6: [0.62, 0.31], 7: [], 8: [], 9: [], 10: [0.26]}\n",
      "True  list of subfaces: \n",
      "{1: [],\n",
      " 2: [[0, 5], [10, 13], [4, 8]],\n",
      " 3: [[0, 3, 8]],\n",
      " 4: [],\n",
      " 5: [[7, 8, 13, 14, 17], [1, 3, 8, 14, 19]],\n",
      " 6: [[0, 6, 7, 11, 16, 19], [2, 9, 11, 12, 16, 17]],\n",
      " 7: [],\n",
      " 8: [],\n",
      " 9: [],\n",
      " 10: [[0, 1, 2, 3, 4, 6, 7, 9, 12, 19], [1, 2, 4, 6, 7, 9, 13, 15, 18, 19]]}\n",
      "(True) Associated limit mass:\n",
      "{1: [], 2: [0.062, 0.067, 0.029], 3: [0.042], 4: [], 5: [0.092, 0.083], 6: [0.1, 0.13], 7: [], 8: [], 9: [], 10: [0.16, 0.22]}\n"
     ]
    }
   ],
   "source": [
    "faces_dict, mass_dict = mlx.list_to_dict(damex_subfaces,\n",
    "                                         damex_masses)\n",
    "\n",
    "faces_dict_true, mass_dict_true = mlx.list_to_dict(faces_true, wei_true)\n",
    "\n",
    "if True:\n",
    "    print(\"List of subfaces found by DAMEX:\")\n",
    "    pp.pprint(faces_dict)\n",
    "    print(\"(Damex) Associated limit mass:\")\n",
    "    print(mass_dict)\n",
    "    print(\"True  list of subfaces: \")\n",
    "    pp.pprint(faces_dict_true)\n",
    "    print(\"(True) Associated limit mass:\")\n",
    "    print(mass_dict_true)"
   ]
  },
  {
   "cell_type": "markdown",
   "id": "85e46a0a",
   "metadata": {},
   "source": [
    "## Unsupervised scoring"
   ]
  },
  {
   "cell_type": "markdown",
   "id": "391da3ec",
   "metadata": {
    "cell_marker": "\"\"\""
   },
   "source": [
    "This material presents novel concepts, not yet supported by formal\n",
    "published theory, but intuitive and practical. It aids in evaluating\n",
    "goodness-of-fit, and most importantly, selecting the\n",
    "parameter `epsilon` (or `kappa_min` in CLEF). The ideas are related to\n",
    "Jorgensen's *Theory of Dispersion Models*.\n",
    "\n",
    "We introduce an unsupervised performance metric termed *Total\n",
    "Deviance*, inspired by Jorgensen's work. This metric relies on a unit\n",
    "deviance function $ d(\\text{subface}_1, \\text{subface}_2) $, defined\n",
    "as in Chiapino et al. as the ratio of the symmetric difference between\n",
    "the index sets of two subfaces to the cardinality of the union of\n",
    "these index sets.\n",
    "\n",
    "Given a unit deviance $ d $, the total deviance of an estimated pair\n",
    "(list of subfaces, list of masses) from Damex or CLEF, with respect to\n",
    "an extreme dataset, is computed as follows:\n",
    "\n",
    "1. Each extreme point $ X_i $ is transformed into a binary vector\n",
    "using the same \"mask\" as in Damex/CLEF. For Damex, $ X_{i,j} = 1 $\n",
    "if $ ||X_i|| > \\text{threshold} $ and $ X_{i,j} > \\epsilon \\times\n",
    "\\text{threshold} $; otherwise, $ X_{i,j} = 0 $. In CLEF, this\n",
    "condition applies with $ \\epsilon = 1 $.\n",
    "\n",
    "2. Each binary-transformed extreme point is identified with a subface\n",
    "by considering its non-zero entries as the indices defining the\n",
    "subface. This allows the definition of $ d(\\text{subface}, X_i) $.\n",
    "\n",
    "3. If $ (m_j, j \\leq J) $ are the estimated subface masses from\n",
    "Damex, their weights are defined as $ p_j = m_j / \\text{total\\_mass}\n",
    "$, where `total_mass` is the total limit measure mass on the\n",
    "complementary set of the unit ball.\n",
    "\n",
    "The total (log-)deviance is then defined as:\n",
    "\n",
    "$$ \\text{Deviance}(\\text{subfaces}, \\text{masses}, \\text{data}) = -2\n",
    "\\times \\sum_{i \\leq n_{\\text{extremes}}} \\log \\left( \\sum_{j \\leq J}\n",
    "p_j \\exp(- \\text{rate} \\times d(X_i, \\text{subface}_j)) \\right) $$\n",
    "\n",
    "Using this deviance, an AIC criterion is defined as:\n",
    "\n",
    "$$ \\text{AIC}(\\text{subfaces}, \\text{masses}, \\text{training\\_data}) =\n",
    "\\text{Deviance}(\\text{subfaces}, \\text{masses}, \\text{training\\_data})\n",
    "+ 2 \\times \\frac{\\text{number\\_of\\_subfaces}}{n_{\\text{extremes}}} $$\n",
    "\n",
    "This represents the AIC divided by the sample size.\n",
    "\n",
    "Additionally, a cross-validation estimate of the Deviance (evaluated\n",
    "on a test set) is implemented. Both the AIC and cross-validation\n",
    "estimator aim to estimate the expected Deviance of the trained model\n",
    "on a test set.\n",
    "\n",
    "Additionally, since we are working with simulated data, the\n",
    "implementations of Damex and CLEF include an option to compute the\n",
    "deviance of the estimated parameters (list of subfaces and list of\n",
    "masses) with respect to the true parameters (list of faces and list of\n",
    "weights), and vice versa."
   ]
  },
  {
   "cell_type": "code",
   "execution_count": 19,
   "id": "620198a4",
   "metadata": {},
   "outputs": [
    {
     "name": "stdout",
     "output_type": "stream",
     "text": [
      "AIC deviance estimate of expected deviance:\n",
      "8.156902341065242\n",
      "CV estimate of expected deviance\n",
      "8.206601861485684\n",
      "test set  estimate of expected deviance\n",
      "8.202703587364631\n",
      "Deviances between faces, masses: a) estimated to true b) true to estimated\n",
      "5.6007403294885565 7.260997498963659\n"
     ]
    }
   ],
   "source": [
    "# Deviance from estimated to true parameters:\n",
    "deviance_est_true, deviance_true_est = clustering.deviance_to_true(\n",
    "    faces_true, wei_true)\n",
    "\n",
    "\n",
    "print(\"AIC deviance estimate of expected deviance:\")\n",
    "print(clustering.get_AIC(Xt, standardize=False))\n",
    "\n",
    "print(\"CV estimate of expected deviance\")\n",
    "print(np.mean(clustering.deviance_CV(Xt, standardize=False)))\n",
    "print(\"test set  estimate of expected deviance\")\n",
    "print(clustering.deviance(std_Xtest, standardize=False))\n",
    "\n",
    "print(\"Deviances between faces, masses: \\\n",
    "a) estimated to true b) true to estimated\")\n",
    "print(deviance_est_true, deviance_true_est)"
   ]
  },
  {
   "cell_type": "markdown",
   "id": "788b738b",
   "metadata": {
    "lines_to_next_cell": 2
   },
   "source": [
    " For this sample size, AIC and CV appear to be equally reliable for\n",
    "estimating the expected deviance on a test set (or the deviance on a\n",
    "sufficiently large test set as here). Additionally, the deviance\n",
    "between the true parameters (faces and masses) and the estimated ones\n",
    "is, in principle, similar to the test set estimate of the total\n",
    "deviance, which is also observed here."
   ]
  },
  {
   "cell_type": "markdown",
   "id": "a797f98c",
   "metadata": {},
   "source": [
    "## Choosing Epsilon based on AIC / CV"
   ]
  },
  {
   "cell_type": "code",
   "execution_count": 20,
   "id": "81edcc51",
   "metadata": {},
   "outputs": [
    {
     "name": "stdout",
     "output_type": "stream",
     "text": [
      "DAMEX: selected epsilon with AIC criterion 0.038\n"
     ]
    },
    {
     "data": {
      "image/png": "[encoded data removed]",
      "text/plain": [
       "<Figure size 1000x500 with 1 Axes>"
      ]
     },
     "metadata": {},
     "output_type": "display_data"
    },
    {
     "name": "stdout",
     "output_type": "stream",
     "text": [
      "epsilon parameter selection (AIC):\n",
      "0.038\n",
      "DAMEX: selected epsilon with CV criterion 0.038\n"
     ]
    },
    {
     "data": {
      "image/png": "[encoded data removed]",
      "text/plain": [
       "<Figure size 640x480 with 1 Axes>"
      ]
     },
     "metadata": {},
     "output_type": "display_data"
    },
    {
     "name": "stdout",
     "output_type": "stream",
     "text": [
      "epsilon parameter selection (CV):\n",
      "0.038\n"
     ]
    },
    {
     "data": {
      "text/plain": [
       "False"
      ]
     },
     "execution_count": 20,
     "metadata": {},
     "output_type": "execute_result"
    }
   ],
   "source": [
    "# select epsilon with AIC and update model:\n",
    "neps = 20\n",
    "eps_vect = np.geomspace(10**(-3), 1, num=neps)\n",
    "eps_select_AIC, aic_opt, aic_values = clustering.select_epsilon_AIC(\n",
    "    eps_vect, X, plot=True, update_epsilon=False)\n",
    "\n",
    "print('epsilon parameter selection (AIC):')\n",
    "print(mlx.round_signif(eps_select_AIC, 2))\n",
    "\n",
    "# select epsilon with CV but don't update model:\n",
    "eps_select_CV, _, _ = clustering.select_epsilon_CV(eps_vect, X, plot=True,\n",
    "                                                   update_epsilon=False)\n",
    "\n",
    "print('epsilon parameter selection (CV):')\n",
    "print(mlx.round_signif(eps_select_CV, 2))\n",
    "\n",
    "# Check that epsilon stored in object is still the default one\n",
    "clustering.epsilon"
   ]
  },
  {
   "cell_type": "markdown",
   "id": "bf2ba4cc",
   "metadata": {},
   "source": [
    "## Wrapping up: Comparison of All Metrics:"
   ]
  },
  {
   "cell_type": "code",
   "execution_count": 21,
   "id": "f44ad08e",
   "metadata": {},
   "outputs": [
    {
     "data": {
      "image/png": "[encoded data removed]",
      "text/plain": [
       "<Figure size 640x480 with 1 Axes>"
      ]
     },
     "metadata": {},
     "output_type": "display_data"
    }
   ],
   "source": [
    "# # Agreement with other metrics: recommended choice of epsilon here: by CV\n",
    "eps_select = eps_select_CV\n",
    "i_select = np.where(eps_select == eps_vect)[0][0]\n",
    "aic_vals = np.zeros(neps)\n",
    "deviance = np.zeros(neps)\n",
    "deviance_train = np.zeros(neps)\n",
    "deviance_cv = np.zeros(neps)\n",
    "deviance_est_true = np.zeros(neps)\n",
    "deviance_true_est = np.zeros(neps)\n",
    "\n",
    "for i in range(neps):\n",
    "    clust = mlx.damex(epsilon=eps_vect[i], min_counts=min_counts,\n",
    "                      thresh_train=threshold,\n",
    "                      thresh_test=threshold,\n",
    "                      include_singletons=include_singletons)\n",
    "    faces, masses = clust.fit(Xt, standardize=False)\n",
    "    aic_vals[i] = clust.get_AIC(Xt, standardize=False)\n",
    "    deviance[i] = clust.deviance(std_Xtest, standardize=False)\n",
    "    deviance_train[i] = clust.deviance(Xt, standardize=False)\n",
    "    deviance_cv_scores = clust.deviance_CV(Xt, standardize=False,\n",
    "                                           random_state=13+137*i, cv=5)\n",
    "    deviance_cv[i] = np.mean(deviance_cv_scores)\n",
    "    deviance_est_true[i], deviance_true_est[i] = clust.deviance_to_true(\n",
    "        faces_true, wei_true)\n",
    "\n",
    "if True:\n",
    "    plt.scatter(eps_vect, deviance_train, c='black',\n",
    "                label='deviance on training set')\n",
    "    plt.scatter(eps_vect, aic_vals, c='orange', label='AIC', alpha=0.5)\n",
    "    plt.scatter(eps_vect, deviance, c='red',\n",
    "                label='deviance on test set', alpha=0.5)\n",
    "    plt.scatter(eps_vect, deviance_cv, c='pink',\n",
    "                label='deviance_cv')\n",
    "    plt.scatter(eps_vect, deviance_est_true, c='blue',\n",
    "                label='deviance_est_true')\n",
    "    plt.scatter(eps_vect, deviance_true_est, c='green',\n",
    "                label='deviance_true_est')\n",
    "    plt.plot([eps_select, eps_select], [0, deviance_true_est[i_select]],\n",
    "             c='orange')\n",
    "    plt.legend()\n",
    "    plt.title(\"DAMEX metrics sensitivity to epsilon\")\n",
    "    plt.show()"
   ]
  },
  {
   "cell_type": "markdown",
   "id": "16be082d",
   "metadata": {
    "cell_marker": "\"\"\""
   },
   "source": [
    "**Conclusion:** All goes as planned:\n",
    "\n",
    "- Deviance on the testing set and AIC are very close or even\n",
    "  indistinguishable as soon as epsilon is not too small, reflecting\n",
    "  the fact that AIC is meant to estimate  the deviance on a test\n",
    "  set.\n",
    "\n",
    "- Deviance on the training set and AIC are close because the number of\n",
    "  'parameters' of the model (i.e., number of faces) is small compared\n",
    "  with the sample size (here, the number of extremes).\n",
    "\n",
    "- Deviance on the training set is close to, but less than, the\n",
    "  deviance on the test set, reflecting slight overfitting.\n",
    "\n",
    "- Deviance on the test set is a reasonable approximation of the\n",
    "  deviance of the estimated parameter from the true model (not the\n",
    "  other way around).\n",
    "\n",
    "- CV deviance is different from the test deviance but follows a\n",
    "  similar pattern.\n",
    "\n",
    "**Take-home message:** To choose epsilon, use `select_epsilon_AIC` and\n",
    "  `select_epsilon_CV`. The results should be similar. If they are not,\n",
    "  you may be in trouble because the (extreme) sample size may be too\n",
    "  small."
   ]
  },
  {
   "cell_type": "code",
   "execution_count": 22,
   "id": "9326fab8",
   "metadata": {
    "title": "Re-fit the model with previously selected epsilon and inspect"
   },
   "outputs": [
    {
     "name": "stdout",
     "output_type": "stream",
     "text": [
      "Damex with selected epsilon: subfaces\n",
      "{1: [],\n",
      " 2: [[10, 13], [0, 5], [4, 8]],\n",
      " 3: [[0, 3, 8]],\n",
      " 4: [],\n",
      " 5: [[7, 8, 13, 14, 17], [1, 3, 8, 14, 19]],\n",
      " 6: [[2, 9, 11, 12, 16, 17], [0, 6, 7, 11, 16, 19]],\n",
      " 7: [],\n",
      " 8: [],\n",
      " 9: [[1, 2, 4, 6, 9, 13, 15, 18, 19], [1, 2, 4, 6, 7, 9, 13, 15, 18]],\n",
      " 10: [[0, 1, 2, 3, 4, 6, 7, 9, 12, 19], [1, 2, 4, 6, 7, 9, 13, 15, 18, 19]]}\n",
      "True subfaces\n",
      "{1: [],\n",
      " 2: [[0, 5], [10, 13], [4, 8]],\n",
      " 3: [[0, 3, 8]],\n",
      " 4: [],\n",
      " 5: [[7, 8, 13, 14, 17], [1, 3, 8, 14, 19]],\n",
      " 6: [[0, 6, 7, 11, 16, 19], [2, 9, 11, 12, 16, 17]],\n",
      " 7: [],\n",
      " 8: [],\n",
      " 9: [],\n",
      " 10: [[0, 1, 2, 3, 4, 6, 7, 9, 12, 19], [1, 2, 4, 6, 7, 9, 13, 15, 18, 19]]}\n",
      "final output: weights = normalized masses\n",
      "{1: [],\n",
      " 2: [0.11, 0.11, 0.065],\n",
      " 3: [0.07],\n",
      " 4: [],\n",
      " 5: [0.12, 0.096],\n",
      " 6: [0.14, 0.082],\n",
      " 7: [],\n",
      " 8: [],\n",
      " 9: [0.023, 0.019],\n",
      " 10: [0.088, 0.075]}\n",
      "True weights\n",
      "{1: [],\n",
      " 2: [0.062, 0.067, 0.029],\n",
      " 3: [0.042],\n",
      " 4: [],\n",
      " 5: [0.092, 0.083],\n",
      " 6: [0.1, 0.13],\n",
      " 7: [],\n",
      " 8: [],\n",
      " 9: [],\n",
      " 10: [0.16, 0.22]}\n"
     ]
    }
   ],
   "source": [
    "# subfaces and masses\n",
    "subfaces_select, masses_select = clustering.fit(Xt, eps_select, False)\n",
    "weights_select = masses_select / np.sum(masses_select)\n",
    "\n",
    "dict_faces_select, dict_weights_select = mlx.list_to_dict(subfaces_select,\n",
    "                                                          weights_select)\n",
    "\n",
    "print(\"Damex with selected epsilon: subfaces\")\n",
    "pp.pprint(dict_faces_select)\n",
    "print(\"True subfaces\")\n",
    "pp.pprint(faces_dict_true)\n",
    "\n",
    "print(\"final output: weights = normalized masses\")\n",
    "pp.pprint(dict_weights_select)\n",
    "print(\"True weights\")\n",
    "pp.pprint(mass_dict_true)"
   ]
  }
 ],
 "metadata": {
  "jupytext": {
   "cell_metadata_filter": "-all",
   "main_language": "python",
   "notebook_metadata_filter": "-all"
  },
  "kernelspec": {
   "display_name": "Python 3 (ipykernel)",
   "language": "python",
   "name": "python3"
  },
  "language_info": {
   "codemirror_mode": {
    "name": "ipython",
    "version": 3
   },
   "file_extension": ".py",
   "mimetype": "text/x-python",
   "name": "python",
   "nbconvert_exporter": "python",
   "pygments_lexer": "ipython3",
   "version": "3.12.10"
  }
 },
 "nbformat": 4,
 "nbformat_minor": 5
}
