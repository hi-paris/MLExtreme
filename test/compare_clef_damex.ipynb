{
 "cells": [
  {
   "cell_type": "code",
   "execution_count": 21,
   "id": "0f728f2b",
   "metadata": {},
   "outputs": [],
   "source": [
    "# Author: Anne Sabourin\n",
    "# Description: DAMEX/CLEF tutorial: comparison"
   ]
  },
  {
   "cell_type": "markdown",
   "id": "74f09d35",
   "metadata": {
    "lines_to_next_cell": 0
   },
   "source": [
    "# Comparison between CLEF and DAMEX.\n",
    "\"\"\"\n",
    "\n",
    "This notebook demonstrates a typical scenario where DAMEX frequently\n",
    "identifies numerous 'false' subfaces in high-dimensional settings, or\n",
    "no non-trivial subface at all (here, by trivial subface, we mean\n",
    "either a singleton subface, or the largest subface including all\n",
    "features), even when a reasonable `min_counts` threshold is applied to\n",
    "disregard small subfaces.\n",
    "\n",
    "This propensity for false discovery is further exacerbated in\n",
    "adversarial settings (controlled by the `add_noisy_feature` Boolean\n",
    "variable), where a random feature is introduced to each extreme sample\n",
    "point.\n",
    "\n",
    "In contrast, CLEF generally identifies fewer subfaces that are more\n",
    "closely aligned with the 'true' subfaces.\n",
    "\n",
    "From a quantitative standpoint, DAMEX sometimes outperforms CLEF in terms\n",
    "of deviance.\n",
    "\n",
    "In summary, while DAMEX's output may be less interpretable and\n",
    "convenient for subsequent analysis—a primary motivation for the\n",
    "development of CLEF— DAMEX may still outperform CLEF in terms of\n",
    "'distance to truth,' which can be interpreted as predictive\n",
    "performance.\n",
    "\n",
    "In higher dimensions (d~50) , the output if DAMEX is highly sensitive\n",
    "to the choice of `min_counts' in DAMEX typically fails to recover\n",
    "meaningful subfaces. CLEF on the contrary is more stable.\n",
    "\n",
    "**References:**\n",
    "\n",
    "[1] Goix, N., Sabourin, A., & Clémençon, S. (2017). Sparse\n",
    "representation of multivariate extremes with applications to anomaly\n",
    "detection. Journal of Multivariate Analysis, 161, 12-31.\n",
    "\n",
    "[2] Chiapino, M., & Sabourin, A. (2016). Feature clustering for\n",
    "extreme events analysis, with application to extreme stream-flow\n",
    "data. In *International Workshop on New Frontiers in Mining Complex\n",
    "Patterns* (pp. 132-147). Cham: Springer International Publishing.\n",
    "\n",
    "[3] Chiapino, M., Sabourin, A., & Segers, J. (2019). Identifying\n",
    "groups of variables with the potential of being large\n",
    "simultaneously. *Extremes, 22*, 193-222.\n",
    "\n",
    "\"\"\""
   ]
  },
  {
   "cell_type": "code",
   "execution_count": 22,
   "id": "db43d3e3",
   "metadata": {},
   "outputs": [
    {
     "data": {
      "text/plain": [
       "'/home/anne/Dropbox/RECHERCHE/CODE/MLExtreme'"
      ]
     },
     "execution_count": 22,
     "metadata": {},
     "output_type": "execute_result"
    }
   ],
   "source": [
    "# # Set working directory if necessary\n",
    "import os\n",
    "os.getcwd()\n",
    "# #os.chdir(\"../\")"
   ]
  },
  {
   "cell_type": "code",
   "execution_count": 23,
   "id": "36febfd1",
   "metadata": {},
   "outputs": [],
   "source": [
    "import numpy as np\n",
    "import matplotlib.pyplot as plt\n",
    "import pprint as pp\n",
    "import MLExtreme as mlx\n",
    "\n",
    "# Define the norm function as the infinite norm (other norms are not\n",
    "# implemented in DAMEX / CLEF). This definition is not required for\n",
    "# running CLEF/DAMEX and is used here solely for visualization and\n",
    "# analysis of the output.\n",
    "\n",
    "\n",
    "def norm_func(x):\n",
    "    return np.max(x, axis=1)"
   ]
  },
  {
   "cell_type": "markdown",
   "id": "696840ad",
   "metadata": {},
   "source": [
    "## Ground truth definition:\n",
    "Define or generate a list of subfaces of the unit sphere that\n",
    "represent the support of the limit measure."
   ]
  },
  {
   "cell_type": "code",
   "execution_count": 24,
   "id": "72538509",
   "metadata": {},
   "outputs": [
    {
     "name": "stdout",
     "output_type": "stream",
     "text": [
      "Mu matrix: \n",
      " [[0.    0.143 0.    ... 0.    0.    0.   ]\n",
      " [0.    0.    0.    ... 0.154 0.    0.   ]\n",
      " [0.    0.111 0.333 ... 0.    0.    0.   ]\n",
      " ...\n",
      " [0.    0.    0.    ... 0.    0.    0.   ]\n",
      " [0.    0.    0.    ... 0.    0.    0.   ]\n",
      " [0.    0.    0.    ... 0.    0.    0.   ]]\n",
      "Weights: [0.047 0.13  0.06  0.087 0.03  0.02  0.027 0.107 0.067 0.087 0.02  0.02\n",
      " 0.02  0.02  0.02  0.02  0.02  0.02  0.02  0.02  0.02  0.02  0.02  0.02\n",
      " 0.02  0.02  0.02 ]\n"
     ]
    }
   ],
   "source": [
    "Plot = False\n",
    "seed = 42\n",
    "dim = 50  # try  50, 100\n",
    "num_subfaces = 10  # try 5, 20, 50\n",
    "subfaces_list = mlx.gen_subfaces(dimension=dim,\n",
    "                                 num_subfaces=num_subfaces,\n",
    "                                 max_size=10,  # try 4, 10, 20\n",
    "                                 prevent_inclusions=True,\n",
    "                                 seed=seed)\n",
    "\n",
    "# # Uncomment for a simpler example:\n",
    "# subfaces_list = [[0, 1], [1, 2], [2, 3, 4]]\n",
    "\n",
    "if False:   # change to True to print the list of subfaces\n",
    "    print(subfaces_list)\n",
    "    pp.pprint(mlx.list_to_dict_size(subfaces_list))\n",
    "\n",
    "subfaces_matrix = mlx.subfaces_list_to_matrix(subfaces_list, dim)\n",
    "#print(subfaces_matrix)\n",
    "\n",
    "# Dimension, number of mixture components,\n",
    "# weights and Dirichlet center locations\n",
    "n = int(np.sqrt(dim) * 10**3)\n",
    "k = np.shape(subfaces_matrix)[0]\n",
    "dim = np.shape(subfaces_matrix)[1]\n",
    "# Define admissible Dirichlet mixture parameters for the limit angular measure\n",
    "# of a marginally Pareto-standardized heavy-tailed vector,\n",
    "# based on the matrix of subfaces.\n",
    "# This avoids potentially imbalanced settings across features.\n",
    "wei = np.ones(k)/k\n",
    "Mu, wei = mlx.normalize_param_dirimix(subfaces_matrix, wei)\n",
    "# Print the subfaces and their weights, and record them as a list\n",
    "# for further use.\n",
    "faces_true = subfaces_list\n",
    "wei_true = wei\n",
    "print(f'Mu matrix: \\n {np.round(Mu, 3)}')\n",
    "print(f'Weights: {np.round(wei, 3)}')"
   ]
  },
  {
   "cell_type": "markdown",
   "id": "9083f76c",
   "metadata": {},
   "source": [
    "### Difficulty Settings for the Tail Problem"
   ]
  },
  {
   "cell_type": "markdown",
   "id": "46865f7c",
   "metadata": {
    "cell_marker": "\"\"\""
   },
   "source": [
    "The `lnu` parameter below is the logarithm of the concentration\n",
    "parameter for the Dirichlet mixture. It is a crucial parameter that\n",
    "determines the difficulty of the clustering problem. If any\n",
    "$\\exp(\\text{lnu}[i]) \\times \\text{Mu}[i,j] < 1$, the problem is\n",
    "pathologically hard, as the mass on any subface concentrates on the\n",
    "boundary of that face. Conversely, if all $\\exp(\\text{lnu}[i]) \\times\n",
    "\\text{Mu}[i,j] \\gg 1$, the problem is very easy.\n",
    "\n",
    "Experiment with the 'difficulty' parameter below, which should be\n",
    "strictly positive. Values greater than one correspond to very hard\n",
    "problems, while values close to zero generate very easy\n",
    "problems. Interesting results occur for difficulty $\\approx 0.8$."
   ]
  },
  {
   "cell_type": "code",
   "execution_count": 25,
   "id": "f1f0ebff",
   "metadata": {
    "lines_to_next_cell": 2
   },
   "outputs": [],
   "source": [
    "difficulty = 0.8\n",
    "\n",
    "min_mus = np.zeros(k)\n",
    "for j in range(k):\n",
    "    min_mus[j] = np.min(Mu[j, Mu[j, :] > 0])\n",
    "lnu = np.log(1/(difficulty**2) * 1/min_mus)\n",
    "# check (change to True  to display)\n",
    "if False:\n",
    "    print(\"absolute dirichlet parameters: \")\n",
    "    print(Mu * np.exp(lnu).reshape(-1, 1))"
   ]
  },
  {
   "cell_type": "markdown",
   "id": "3980b8e4",
   "metadata": {},
   "source": [
    " Other parameter settings that govern the speed of convergence of\n",
    "the conditional distribution above a radial threshold towards the\n",
    "limit measure.  "
   ]
  },
  {
   "cell_type": "code",
   "execution_count": 26,
   "id": "6f2d38fe",
   "metadata": {},
   "outputs": [],
   "source": [
    "# Regular variation index of the data\n",
    "alpha = 2\n",
    "\n",
    "# Centers of mass of the Dirichlet mixture in the bulk (vanishing\n",
    "# impact above large radial thresholds):\n",
    "Mu_bulk = np.ones((k, dim))/dim"
   ]
  },
  {
   "cell_type": "markdown",
   "id": "afe95fd2",
   "metadata": {},
   "source": [
    " `index_weight_noise` below indicates how fast the impact of noise decreases\n",
    "with large radial thresholds. Specifically, the noise's weight decreases as:\n",
    "$(C/\\text{radius})^{\\text{index\\_weight\\_noise}}$"
   ]
  },
  {
   "cell_type": "code",
   "execution_count": 27,
   "id": "74a703a8",
   "metadata": {},
   "outputs": [],
   "source": [
    "index_weight_noise = 4"
   ]
  },
  {
   "cell_type": "markdown",
   "id": "8dbaf1fb",
   "metadata": {},
   "source": [
    "### Dataset Generation and Visualisation"
   ]
  },
  {
   "cell_type": "code",
   "execution_count": 28,
   "id": "5076ec8c",
   "metadata": {},
   "outputs": [],
   "source": [
    "# Generate data\n",
    "np.random.seed(42)\n",
    "X = mlx.gen_rv_dirimix(alpha, np.round(Mu, 3),  wei, lnu,\n",
    "                       scale_weight_noise=1, Mu_bulk=Mu_bulk,\n",
    "                       index_weight_noise=index_weight_noise, size=n)"
   ]
  },
  {
   "cell_type": "markdown",
   "id": "01cb765f",
   "metadata": {},
   "source": [
    "Add a Noisy 'Large' Feature to Each Sample Point.\n",
    "\n",
    "To simulate an adversarial setting, add a noisy 'large' feature to\n",
    "each sample point. Set the option to `False` for comparison purposes."
   ]
  },
  {
   "cell_type": "code",
   "execution_count": 29,
   "id": "2cea7b57",
   "metadata": {},
   "outputs": [],
   "source": [
    "add_noisy_feature = True\n",
    "if add_noisy_feature:\n",
    "    n = np.shape(X)[0]\n",
    "    dim = np.shape(X)[1]\n",
    "    for i in range(n):\n",
    "        jmax = np.argmax(X[i,])\n",
    "        j_noise =  np.argmin(X[i,])##np.random.randint(dim-1)\n",
    "        if j_noise == jmax:\n",
    "            j_noise = dim-1\n",
    "        X[i, j_noise] = X[i, jmax]\n",
    "\n",
    "# Define rank-transformed data\n",
    "Xt = mlx.rank_transform(X)\n",
    "\n",
    "# Generate test data for unsupervised evaluation (without noise)\n",
    "np.random.seed(12345)\n",
    "Xtest = mlx.gen_rv_dirimix(alpha, np.round(Mu, 3),  wei, lnu,\n",
    "                           scale_weight_noise=1, Mu_bulk=Mu_bulk,\n",
    "                           index_weight_noise=index_weight_noise, size=5*n)\n",
    "\n",
    "# Define rank-transformed test data\n",
    "std_Xtest = mlx.rank_transform(Xtest)"
   ]
  },
  {
   "cell_type": "code",
   "execution_count": 30,
   "id": "76885eff",
   "metadata": {},
   "outputs": [],
   "source": [
    "# Pairwise plot of generated data for two dependent components\n",
    "len_faces = np.sum(subfaces_matrix, axis=1)\n",
    "r_i = np.where(len_faces > 1)[0][0]\n",
    "iplot = subfaces_list[r_i][0]\n",
    "jplot = subfaces_list[r_i][1]\n",
    "\n",
    "if Plot:\n",
    "    plt.figure(figsize=(10, 10))\n",
    "    X_disp = X**(alpha/4)  # for easier visualization only\n",
    "    max_val = np.max(X_disp)\n",
    "    scatter = plt.scatter(X_disp[:, iplot], X_disp[:, jplot], alpha=0.5)\n",
    "    plt.xlim(0, max_val)\n",
    "    plt.ylim(0, max_val)\n",
    "    plt.xlabel('Feature 1')\n",
    "    plt.ylabel('Feature d')\n",
    "    plt.title('Scatter Plot of the raw  dataset')\n",
    "    plt.show()"
   ]
  },
  {
   "cell_type": "code",
   "execution_count": 31,
   "id": "6faa771c",
   "metadata": {
    "lines_to_next_cell": 2
   },
   "outputs": [],
   "source": [
    "# rank transformed  generated data with unit Pareto margins\n",
    "# and visualization\n",
    "if Plot:\n",
    "    plt.figure(figsize=(10, 10))\n",
    "    X_disp = Xt**(1/4)  # for easier visualization only\n",
    "    max_val = np.max(X_disp)\n",
    "    scatter = plt.scatter(X_disp[:, iplot], X_disp[:, jplot], alpha=0.5)\n",
    "    plt.xlim(0, max_val)\n",
    "    plt.ylim(0, max_val)\n",
    "    plt.xlabel('Feature 1')\n",
    "    plt.ylabel('Feature d')\n",
    "    plt.title('Scatter Plot of the  rank transformed dataset')\n",
    "    plt.show()"
   ]
  },
  {
   "cell_type": "markdown",
   "id": "34319ffc",
   "metadata": {},
   "source": [
    "# Data Analysis\n",
    "## Radial threshold selection before model fitting"
   ]
  },
  {
   "cell_type": "code",
   "execution_count": 32,
   "id": "e3bc47a6",
   "metadata": {
    "lines_to_next_cell": 0
   },
   "outputs": [
    {
     "data": {
      "image/png": "[encoded data removed]",
      "text/plain": [
       "<Figure size 640x480 with 1 Axes>"
      ]
     },
     "metadata": {},
     "output_type": "display_data"
    },
    {
     "name": "stdout",
     "output_type": "stream",
     "text": [
      "maximum ratio of extreme samples from rule-of-thumb distance covariance test: 0.17\n"
     ]
    }
   ],
   "source": [
    "# Select the radial threshold via distance-covariance tests.\n",
    "# See the tutorials on classification and regression for more details.\n",
    "ntests_thresh = 20\n",
    "ratio_ext = np.geomspace(0.05, 0.3, num=ntests_thresh)\n",
    "pval, ratio_max = mlx.test_indep_radius_rest(Xt, y=None, ratio_ext=ratio_ext,\n",
    "                                             norm_func=norm_func)\n",
    "\n",
    "if True:\n",
    "    mlx.plot_indep_radius_rest(pval, ratio_ext, ratio_max, n)\n",
    "\n",
    "print(f'maximum ratio of extreme samples from rule-of-thumb \\\n",
    "distance covariance test: {mlx.round_signif(ratio_max, 2)}')\n",
    "ratio_extremes = ratio_max * 4/5 \n",
    "norm_Xt = norm_func(Xt)\n",
    "# Radial threshold selected with rule-of-thumb radius-versus-rest\n",
    "# independence tests:\n",
    "threshold = np.quantile(norm_Xt, 1 - ratio_extremes)\n",
    "# Note: The following is not 'k' in the notations of Goix et al. [1]\n",
    "# Instead, it is between k and d * k. It is the number of data points\n",
    "# above the radial threshold.\n",
    "number_extremes = np.sum(norm_Xt >= threshold)\n",
    "\n",
    "# %%%%%%%%%%%%%%%%%%%%%%%%%%%%%"
   ]
  },
  {
   "cell_type": "markdown",
   "id": "6b7b4909",
   "metadata": {},
   "source": [
    "##  DAMEX  clustering  (Goix et al, [1] )"
   ]
  },
  {
   "cell_type": "code",
   "execution_count": 33,
   "id": "3fc823cc",
   "metadata": {
    "lines_to_next_cell": 0
   },
   "outputs": [
    {
     "name": "stdout",
     "output_type": "stream",
     "text": [
      "DAMEX: selected epsilon with AIC criterion 0.001\n"
     ]
    },
    {
     "data": {
      "image/png": "[encoded data removed]",
      "text/plain": [
       "<Figure size 1000x500 with 1 Axes>"
      ]
     },
     "metadata": {},
     "output_type": "display_data"
    },
    {
     "name": "stdout",
     "output_type": "stream",
     "text": [
      "DAMEX: selected epsilon with CV criterion 0.001\n"
     ]
    },
    {
     "data": {
      "image/png": "[encoded data removed]",
      "text/plain": [
       "<Figure size 640x480 with 1 Axes>"
      ]
     },
     "metadata": {},
     "output_type": "display_data"
    },
    {
     "name": "stdout",
     "output_type": "stream",
     "text": [
      "deviance truth to damex aic:\n",
      "17.519191919191922\n",
      "deviance truth to damex cv:\n",
      "17.519191919191922\n"
     ]
    }
   ],
   "source": [
    "# Explore setting `inlude_singletons` to True\n",
    "include_singletons = False\n",
    "\n",
    "# Explore other settings: 0,2, 10, np.sqrt(number_extremes)\n",
    "min_counts = 5\n",
    "rate = 10\n",
    "\n",
    "damex_clust = mlx.damex(min_counts=min_counts,\n",
    "                        thresh_train=threshold, thresh_test=threshold,\n",
    "                        include_singletons=include_singletons,\n",
    "                        rate=rate)\n",
    "\n",
    "ntests = 20\n",
    "vect_eps = np.geomspace(10**(-3), 1, num=ntests)\n",
    "\n",
    "eps_select_aic, damex_aic_opt, damex_aic_values = \\\n",
    "    damex_clust.select_epsilon_AIC(\n",
    "        vect_eps, Xt, standardize=False, plot=True, update_epsilon=False)\n",
    "\n",
    "eps_select_cv, damex_cv_opt, damex_cv_values = damex_clust.select_epsilon_CV(\n",
    "    vect_eps, Xt, standardize=False, plot=True, update_epsilon=False)\n",
    "\n",
    "\n",
    "damex_clust.fit(Xt, epsilon=eps_select_aic, standardize=False)\n",
    "_, damex_aic_dev_to_true = damex_clust.deviance_to_true(faces_true, wei_true)\n",
    "\n",
    "\n",
    "damex_clust.fit(Xt, epsilon=eps_select_cv, standardize=False)\n",
    "_, damex_cv_dev_to_true = damex_clust.deviance_to_true(faces_true, wei_true)\n",
    "\n",
    "# # %%\n",
    "# # In view of the plots above, it seems reasonable to set kappa_min\n",
    "# # to the first value above which aic/cv deviance is not constant, ~0.015\n",
    "# # explore this option by  un-commenting  the following:\n",
    "\n",
    "# eps_select_visual = 0.005\n",
    "# damex_clust.fit(Xt, epsilon=eps_select_visual, standardize=False)\n",
    "# _, damex_visual_dev_to_true = damex_clust.deviance_to_true(faces_true, wei_true)\n",
    "\n",
    "print('deviance truth to damex aic:')\n",
    "print(damex_aic_dev_to_true)\n",
    "\n",
    "print('deviance truth to damex cv:')\n",
    "print(damex_cv_dev_to_true)\n",
    "\n",
    "# print('deviance truth to damex with epsilon set from visual inspection:')\n",
    "# print(damex_visual_dev_to_true)\n",
    "\n",
    "# ############"
   ]
  },
  {
   "cell_type": "markdown",
   "id": "3cbe2a78",
   "metadata": {},
   "source": [
    "## CLEF Clustering (Chiapino et al., [2,3]"
   ]
  },
  {
   "cell_type": "code",
   "execution_count": 34,
   "id": "d632cdbc",
   "metadata": {},
   "outputs": [
    {
     "name": "stdout",
     "output_type": "stream",
     "text": [
      "CLEF: selected kappa_min with AIC criterion: 0.0014\n"
     ]
    },
    {
     "data": {
      "image/png": "[encoded data removed]",
      "text/plain": [
       "<Figure size 1000x500 with 1 Axes>"
      ]
     },
     "metadata": {},
     "output_type": "display_data"
    },
    {
     "name": "stdout",
     "output_type": "stream",
     "text": [
      "CLEF: selected kappa_min with CV estimate of deviance: 0.0014\n"
     ]
    },
    {
     "data": {
      "image/png": "[encoded data removed]",
      "text/plain": [
       "<Figure size 640x480 with 1 Axes>"
      ]
     },
     "metadata": {},
     "output_type": "display_data"
    }
   ],
   "source": [
    "clef_clust = mlx.clef(thresh_train=threshold, thresh_test=threshold,\n",
    "                      rate=rate)\n",
    "\n",
    "ntests = 20\n",
    "vect_kappa = np.geomspace(10**(-3), 1, num=ntests)\n",
    "kappa_select_aic, clef_aic_opt, clef_aic_values = \\\n",
    "    clef_clust.select_kappa_min_AIC(\n",
    "        vect_kappa, Xt, standardize=False, unstable_kappam_max=0.01,\n",
    "        plot=True, update_kappa_min=False)\n",
    "\n",
    "kappa_select_cv, clef_cv_opt, clef_cv_values = clef_clust.select_kappa_min_CV(\n",
    "    vect_kappa, Xt, standardize=False,  unstable_tol_max=0.01,\n",
    "    plot=True, update_kappa_min=False, random_state=1)"
   ]
  },
  {
   "cell_type": "code",
   "execution_count": 35,
   "id": "78ac6c66",
   "metadata": {},
   "outputs": [
    {
     "name": "stdout",
     "output_type": "stream",
     "text": [
      "deviance truth to clef aic:\n",
      "15.44065714094646\n",
      "deviance truth to clef cv:\n",
      "18.742921333178803\n",
      "number of subfaces found by DAMEX:\n",
      "1\n",
      "number of subfaces found by CLEF:\n",
      "46\n",
      "approximate number of true subfaces:\n",
      "10\n"
     ]
    }
   ],
   "source": [
    "\n",
    "clef_clust.fit(Xt, kappa_min=kappa_select_aic, standardize=False)\n",
    "_, clef_aic_dev_to_true = clef_clust.deviance_to_true(faces_true, wei_true)\n",
    "\n",
    "clef_clust.fit(Xt, kappa_min=kappa_select_cv*20, standardize=False)\n",
    "_, clef_cv_dev_to_true = clef_clust.deviance_to_true(faces_true, wei_true)\n",
    "\n",
    "\n",
    "# # In view of the plots above, it it may seem reasonable to set kappa_min\n",
    "# # to the first value above which aic/cv deviance is not constant, ~0.015\n",
    "#  Uncomment below to implement this option\n",
    "\n",
    "# clef_clust.fit(Xt, kappa_min=0.015, standardize=False)\n",
    "# _, clef_visual_dev_to_true = clef_clust.deviance_to_true(faces_true, wei_true)\n",
    "\n",
    "#pp.pprint(mlx.list_to_dict(clef_clust.subfaces, clef_clust.masses))\n",
    "\n",
    "print('deviance truth to clef aic:')\n",
    "print(clef_aic_dev_to_true)\n",
    "\n",
    "print('deviance truth to clef cv:')\n",
    "print(clef_cv_dev_to_true)\n",
    "\n",
    "print(\"number of subfaces found by DAMEX:\")\n",
    "print(len(damex_clust.subfaces))\n",
    "print(\"number of subfaces found by CLEF:\")\n",
    "print(len(clef_clust.subfaces))\n",
    "print(\"approximate number of true subfaces:\")\n",
    "print(num_subfaces)"
   ]
  },
  {
   "cell_type": "markdown",
   "id": "4adec0d3",
   "metadata": {
    "lines_to_next_cell": 2
   },
   "source": [
    "## Qualititative comparison:"
   ]
  },
  {
   "cell_type": "code",
   "execution_count": 36,
   "id": "c0c0ff34",
   "metadata": {},
   "outputs": [
    {
     "name": "stdout",
     "output_type": "stream",
     "text": [
      "damex subfaces\n",
      "{1: [],\n",
      " 2: [],\n",
      " 3: [],\n",
      " 4: [],\n",
      " 5: [],\n",
      " 6: [],\n",
      " 7: [],\n",
      " 8: [],\n",
      " 9: [],\n",
      " 10: [],\n",
      " 11: [],\n",
      " 12: [],\n",
      " 13: [],\n",
      " 14: [],\n",
      " 15: [],\n",
      " 16: [],\n",
      " 17: [],\n",
      " 18: [],\n",
      " 19: [],\n",
      " 20: [],\n",
      " 21: [],\n",
      " 22: [],\n",
      " 23: [],\n",
      " 24: [],\n",
      " 25: [],\n",
      " 26: [],\n",
      " 27: [],\n",
      " 28: [],\n",
      " 29: [],\n",
      " 30: [],\n",
      " 31: [],\n",
      " 32: [],\n",
      " 33: [],\n",
      " 34: [],\n",
      " 35: [],\n",
      " 36: [],\n",
      " 37: [],\n",
      " 38: [],\n",
      " 39: [],\n",
      " 40: [],\n",
      " 41: [],\n",
      " 42: [],\n",
      " 43: [],\n",
      " 44: [],\n",
      " 45: [],\n",
      " 46: [],\n",
      " 47: [],\n",
      " 48: [],\n",
      " 49: [],\n",
      " 50: [[0,\n",
      "       1,\n",
      "       2,\n",
      "       3,\n",
      "       4,\n",
      "       5,\n",
      "       6,\n",
      "       7,\n",
      "       8,\n",
      "       9,\n",
      "       10,\n",
      "       11,\n",
      "       12,\n",
      "       13,\n",
      "       14,\n",
      "       15,\n",
      "       16,\n",
      "       17,\n",
      "       18,\n",
      "       19,\n",
      "       20,\n",
      "       21,\n",
      "       22,\n",
      "       23,\n",
      "       24,\n",
      "       25,\n",
      "       26,\n",
      "       27,\n",
      "       28,\n",
      "       29,\n",
      "       30,\n",
      "       31,\n",
      "       32,\n",
      "       33,\n",
      "       34,\n",
      "       35,\n",
      "       36,\n",
      "       37,\n",
      "       38,\n",
      "       39,\n",
      "       40,\n",
      "       41,\n",
      "       42,\n",
      "       43,\n",
      "       44,\n",
      "       45,\n",
      "       46,\n",
      "       47,\n",
      "       48,\n",
      "       49]]}\n",
      "clef subfaces\n",
      "{1: [],\n",
      " 2: [[0, 38],\n",
      "     [0, 40],\n",
      "     [16, 1],\n",
      "     [2, 5],\n",
      "     [25, 2],\n",
      "     [2, 27],\n",
      "     [3, 20],\n",
      "     [11, 4],\n",
      "     [4, 29],\n",
      "     [40, 5],\n",
      "     [15, 7],\n",
      "     [30, 7],\n",
      "     [9, 20],\n",
      "     [9, 31],\n",
      "     [10, 29],\n",
      "     [16, 11],\n",
      "     [24, 11],\n",
      "     [19, 12],\n",
      "     [25, 13],\n",
      "     [26, 14],\n",
      "     [16, 37],\n",
      "     [17, 19],\n",
      "     [17, 25],\n",
      "     [26, 30],\n",
      "     [36, 29],\n",
      "     [33, 37],\n",
      "     [34, 44],\n",
      "     [37, 47],\n",
      "     [41, 45]],\n",
      " 3: [[40, 1, 7],\n",
      "     [1, 35, 12],\n",
      "     [36, 5, 15],\n",
      "     [24, 49, 6],\n",
      "     [40, 27, 7],\n",
      "     [8, 14, 47],\n",
      "     [0, 27, 13]],\n",
      " 4: [[0, 17, 10, 21],\n",
      "     [48, 9, 3, 21],\n",
      "     [32, 35, 12, 38],\n",
      "     [0, 17, 13, 21],\n",
      "     [24, 49, 45, 22]],\n",
      " 5: [[0, 37, 10, 21, 28],\n",
      "     [0, 10, 44, 21, 28],\n",
      "     [5, 8, 43, 47, 15],\n",
      "     [9, 13, 48, 17, 21],\n",
      "     [0, 10, 44, 27, 28]]}\n",
      "true subfaces\n",
      "{1: [[33],\n",
      "     [3],\n",
      "     [4],\n",
      "     [36],\n",
      "     [39],\n",
      "     [42],\n",
      "     [11],\n",
      "     [46],\n",
      "     [16],\n",
      "     [18],\n",
      "     [19],\n",
      "     [20],\n",
      "     [23],\n",
      "     [25],\n",
      "     [29],\n",
      "     [30],\n",
      "     [31]],\n",
      " 2: [[41, 45], [34, 44], [14, 26]],\n",
      " 3: [[1, 7, 40]],\n",
      " 4: [],\n",
      " 5: [[1, 12, 32, 35, 38], [9, 13, 17, 21, 48]],\n",
      " 6: [[1, 2, 5, 13, 14, 27], [5, 6, 22, 24, 45, 49]],\n",
      " 7: [],\n",
      " 8: [[0, 10, 17, 21, 27, 28, 37, 44]],\n",
      " 9: [],\n",
      " 10: [[5, 6, 8, 14, 15, 17, 34, 37, 43, 47]]}\n"
     ]
    }
   ],
   "source": [
    "# Inspect all subfaces. To hide, set to False below\n",
    "if True:\n",
    "    print(\"damex subfaces\")\n",
    "    damex_cv_faces, damex_cv_masses = mlx.list_to_dict(damex_clust.subfaces,\n",
    "                                                       damex_clust.masses)\n",
    "    pp.pprint(damex_cv_faces)\n",
    "\n",
    "    print(\"clef subfaces\")\n",
    "    clef_cv_faces, clef_cv_masses = mlx.list_to_dict(clef_clust.subfaces,\n",
    "                                                     clef_clust.masses)\n",
    "    pp.pprint(clef_cv_faces)\n",
    "\n",
    "    print(\"true subfaces\")\n",
    "    true_faces, _ = mlx.list_to_dict(faces_true,\n",
    "                                     wei_true)\n",
    "    pp.pprint(true_faces)"
   ]
  },
  {
   "cell_type": "markdown",
   "id": "2602fcf2",
   "metadata": {
    "lines_to_next_cell": 2
   },
   "source": [
    "**General Observations**\n",
    "\n",
    "In general, DAMEX tends to recover either the highest-dimensional\n",
    "subfaces exclusively or only singleton subfaces. It is also very sensitive to the choice of `min_counts`. In contrast, CLEF\n",
    "produces more stable results, including moderate-dimensional subfaces\n",
    "that are reasonably close to the true subfaces.  "
   ]
  }
 ],
 "metadata": {
  "jupytext": {
   "cell_metadata_filter": "-all",
   "main_language": "python",
   "notebook_metadata_filter": "-all"
  },
  "kernelspec": {
   "display_name": "Python 3 (ipykernel)",
   "language": "python",
   "name": "python3"
  },
  "language_info": {
   "codemirror_mode": {
    "name": "ipython",
    "version": 3
   },
   "file_extension": ".py",
   "mimetype": "text/x-python",
   "name": "python",
   "nbconvert_exporter": "python",
   "pygments_lexer": "ipython3",
   "version": "3.12.7"
  }
 },
 "nbformat": 4,
 "nbformat_minor": 5
}
